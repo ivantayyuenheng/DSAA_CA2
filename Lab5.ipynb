{
 "cells": [
  {
   "cell_type": "code",
   "execution_count": 1,
   "metadata": {},
   "outputs": [],
   "source": [
    "import pandas as pd\n",
    "import numpy as np"
   ]
  },
  {
   "cell_type": "code",
   "execution_count": 2,
   "metadata": {},
   "outputs": [],
   "source": [
    "class BinaryTree:\n",
    "    def __init__(self,key, leftTree = None, rightTree = None):\n",
    "        self.key = key\n",
    "        self.leftTree = leftTree\n",
    "        self.rightTree = rightTree\n",
    "\n",
    "    def setKey(self, key):\n",
    "        self.key = key\n",
    "    \n",
    "    def getKey(self):\n",
    "        return self.key\n",
    "    \n",
    "    def getLeftTree(self):\n",
    "        return self.leftTree\n",
    "    \n",
    "    def getRightTree(self):\n",
    "        return self.rightTree\n",
    "\n",
    "    def insertLeft(self, key):\n",
    "        if self.leftTree == None:\n",
    "            self.leftTree = BinaryTree(key)\n",
    "        else:\n",
    "            t =BinaryTree(key)\n",
    "            self.leftTree , t.leftTree = t, self.leftTree\n",
    "    \n",
    "    def insertRight(self, key):\n",
    "        if self.rightTree == None:\n",
    "            self.rightTree = BinaryTree(key)\n",
    "        else:\n",
    "            t =BinaryTree(key)\n",
    "            self.rightTree , t.rightTree = t, self.rightTree\n",
    "\n",
    "    def printPreorder(self, level):\n",
    "        print( str(level*'-') + str(self.key))\n",
    "        if self.leftTree != None:\n",
    "            self.leftTree.printPreorder(level+1)\n",
    "        if self.rightTree != None:\n",
    "            self.rightTree.printPreorder(level+1)\n",
    "\n",
    "    def printInorder(self, level):\n",
    "        if self.leftTree != None:\n",
    "            self.leftTree.printInorder(level+1)\n",
    "        print( str(level*'-') + str(self.key))\n",
    "        if self.rightTree != None:\n",
    "            self.rightTree.printInorder(level+1)"
   ]
  },
  {
   "cell_type": "code",
   "execution_count": 3,
   "metadata": {},
   "outputs": [
    {
     "name": "stdout",
     "output_type": "stream",
     "text": [
      "Contents\n",
      "-Chapter 1\n",
      "--Section 1.1\n",
      "--Section 1.2\n",
      "---Section 1.2.1\n",
      "-Chapter 2\n",
      "--Section 2.1\n",
      "--Section 2.2\n",
      "---Section 2.2.1\n",
      "---Section 2.2.2\n",
      "\n",
      "--Section 1.1\n",
      "-Chapter 1\n",
      "---Section 1.2.1\n",
      "--Section 1.2\n",
      "Contents\n",
      "--Section 2.1\n",
      "-Chapter 2\n",
      "---Section 2.2.1\n",
      "--Section 2.2\n",
      "---Section 2.2.2\n"
     ]
    }
   ],
   "source": [
    "leftTree = BinaryTree('Chapter 1',\n",
    "BinaryTree('Section 1.1'),\n",
    "BinaryTree('Section 1.2',\n",
    "BinaryTree('Section 1.2.1'),None))\n",
    "rightTree = BinaryTree('Chapter 2',\n",
    "BinaryTree('Section 2.1'),\n",
    "BinaryTree('Section 2.2',\n",
    "BinaryTree('Section 2.2.1'),\n",
    "BinaryTree('Section 2.2.2')) )\n",
    "tree = BinaryTree('Contents', leftTree, rightTree)\n",
    "tree.printPreorder(0)\n",
    "print()\n",
    "tree.printInorder(0)"
   ]
  },
  {
   "cell_type": "code",
   "execution_count": 4,
   "metadata": {},
   "outputs": [],
   "source": [
    "class Stack:\n",
    "    def __init__(self):\n",
    "        self.__list = []\n",
    "    \n",
    "    def isEmpty(self):\n",
    "        return self.__list == []\n",
    "    \n",
    "    def size(self):\n",
    "        return len(self.__list)\n",
    "    \n",
    "    def clear(self):\n",
    "        self.__list.clear()\n",
    "\n",
    "    def push(self, item):\n",
    "        self.__list.append(item)\n",
    "\n",
    "    def pop(self):      \n",
    "        if self.isEmpty():\n",
    "            return None\n",
    "        else:\n",
    "            return self.__list.pop()\n",
    "        \n",
    "    def get(self):\n",
    "        if self.isEmpty():\n",
    "            return None\n",
    "        else:\n",
    "            return self.__list[-1]"
   ]
  },
  {
   "cell_type": "code",
   "execution_count": 5,
   "metadata": {},
   "outputs": [],
   "source": [
    "def buildParseTree(exp):\n",
    "    tokens = exp.split()\n",
    "    stack = Stack()\n",
    "    tree = BinaryTree('?')\n",
    "    stack.push(tree)\n",
    "    currentTree = tree\n",
    "    for t in tokens:\n",
    "        # RULE 1: If token is '(' add a new node as left child\n",
    "        # and descend into that node\n",
    "        if t == '(':\n",
    "            currentTree.insertLeft('?')\n",
    "            stack.push(currentTree)\n",
    "            currentTree = currentTree.getLeftTree()\n",
    "        # RULE 2: If token is operator set key of current node\n",
    "        # to that operator and add a new node as right child\n",
    "        # and descend into that node\n",
    "        elif t in ['+', '-', '*', '/', '**']:\n",
    "            currentTree.setKey(t)\n",
    "            currentTree.insertRight('?')\n",
    "            stack.push(currentTree)\n",
    "            currentTree = currentTree.getRightTree()\n",
    "        # RULE 3: If token is number, set key of the current node\n",
    "        # to that number and return to parent\n",
    "        elif t not in ['+', '-', '*', '/', ')', '**'] :\n",
    "            currentTree.setKey(float(t))\n",
    "            parent = stack.pop()\n",
    "            currentTree = parent\n",
    "        # RULE 4: If token is ')' go to parent of current node\n",
    "        elif t == ')':\n",
    "            currentTree = stack.pop()\n",
    "        else:\n",
    "            raise ValueError\n",
    "    return tree\n",
    "\n",
    "def evaluate(tree):\n",
    "    leftTree = tree.getLeftTree()\n",
    "    rightTree = tree.getRightTree()\n",
    "    op = tree.getKey()\n",
    "    if leftTree != None and rightTree != None:\n",
    "        if op == '+':\n",
    "            return evaluate(leftTree) + evaluate(rightTree)\n",
    "        elif op == '-':\n",
    "            return evaluate(leftTree) - evaluate(rightTree)\n",
    "        elif op == '*':\n",
    "            return evaluate(leftTree) * evaluate(rightTree)\n",
    "        elif op == '/':\n",
    "            return evaluate(leftTree) / evaluate(rightTree)\n",
    "        elif op == '**':\n",
    "            return evaluate(leftTree) ** evaluate(rightTree)\n",
    "    else:\n",
    "        return tree.getKey()"
   ]
  },
  {
   "cell_type": "code",
   "execution_count": 6,
   "metadata": {},
   "outputs": [
    {
     "name": "stdout",
     "output_type": "stream",
     "text": [
      "-2.0\n",
      "+\n",
      "--4.0\n",
      "-*\n",
      "--5.0\n",
      "The expression: ( 2 + ( 4 * 5 ) ) evaluates to: 22.0\n"
     ]
    }
   ],
   "source": [
    "exp = '( 2 + ( 4 * 5 ) )'\n",
    "tree = buildParseTree(exp)\n",
    "tree.printInorder(0)\n",
    "print(f'The expression: {exp} evaluates to: {evaluate(tree)}')"
   ]
  },
  {
   "cell_type": "code",
   "execution_count": 7,
   "metadata": {},
   "outputs": [
    {
     "name": "stdout",
     "output_type": "stream",
     "text": [
      "--200.0\n",
      "-+\n",
      "---4.0\n",
      "--*\n",
      "---3.14\n",
      "/\n",
      "--2.0\n",
      "-**\n",
      "--3.0\n",
      "The expression: ( ( 200 + ( 4 * 3.14 ) ) / ( 2 ** 3 ) )\\ evaluates to: 26.57\n"
     ]
    }
   ],
   "source": [
    "exp =  '( ( 200 + ( 4 * 3.14 ) ) / ( 2 ** 3 ) )' \n",
    "tree = buildParseTree(exp)  \n",
    "tree.printInorder(0)  \n",
    "print (f'The expression: {exp}\\ evaluates to: {evaluate(tree)}')"
   ]
  },
  {
   "cell_type": "code",
   "execution_count": 12,
   "metadata": {},
   "outputs": [],
   "source": [
    "class BST(BinaryTree):\n",
    "    def __init__(self, key, leftTree = None, rightTree = None):\n",
    "        super().__init__(key,leftTree,rightTree)\n",
    "\n",
    "    def add(self, key):\n",
    "        curNode = self\n",
    "        while True:\n",
    "            if key < curNode.key:\n",
    "                if curNode.leftTree == None:\n",
    "                    curNode.leftTree = BST(key)\n",
    "                    break\n",
    "                else:\n",
    "                    curNode= curNode.leftTree\n",
    "            elif key > curNode.key:\n",
    "                if curNode.rightTree == None:\n",
    "                    curNode.rightTree = BST(key)\n",
    "                    break\n",
    "                else:\n",
    "                    curNode= curNode.rightTree\n",
    "\n",
    "    def __contains__(self, key):\n",
    "        curNode = self\n",
    "        while curNode != None:\n",
    "            if key == curNode.key:\n",
    "                return True\n",
    "            elif key < curNode.key:\n",
    "                curNode = curNode.leftTree\n",
    "            else:\n",
    "                curNode = curNode.rightTree\n",
    "        return False"
   ]
  },
  {
   "cell_type": "code",
   "execution_count": 13,
   "metadata": {},
   "outputs": [
    {
     "name": "stdout",
     "output_type": "stream",
     "text": [
      "--25\n",
      "-30\n",
      "55\n",
      "---59\n",
      "--64\n",
      "---70\n",
      "----71\n",
      "-73\n",
      "--89\n"
     ]
    }
   ],
   "source": [
    "tree = BST(55)\n",
    "tree.add(30)\n",
    "tree.add(73)\n",
    "tree.add(64)\n",
    "tree.add(89)\n",
    "tree.add(59)\n",
    "tree.add(70)\n",
    "tree.add(25)\n",
    "tree.add(71)\n",
    "tree.printInorder(0)"
   ]
  },
  {
   "cell_type": "code",
   "execution_count": 14,
   "metadata": {},
   "outputs": [
    {
     "name": "stdout",
     "output_type": "stream",
     "text": [
      "--25\n",
      "-30\n",
      "55\n",
      "---59\n",
      "--64\n",
      "---70\n",
      "----71\n",
      "-73\n",
      "--89\n",
      "True\n",
      "True\n",
      "False\n",
      "False\n"
     ]
    }
   ],
   "source": [
    "items = [55,30,73,64,89,59,70,25,71]\n",
    "tree = BST(items[0])\n",
    "for i in range(1,len(items)):\n",
    "    tree.add(items[i])\n",
    "tree.printInorder(0)\n",
    "print(55 in tree)\n",
    "print(70 in tree)\n",
    "print(5 in tree)\n",
    "print(1000 in tree)"
   ]
  }
 ],
 "metadata": {
  "kernelspec": {
   "display_name": "Python 3",
   "language": "python",
   "name": "python3"
  },
  "language_info": {
   "codemirror_mode": {
    "name": "ipython",
    "version": 3
   },
   "file_extension": ".py",
   "mimetype": "text/x-python",
   "name": "python",
   "nbconvert_exporter": "python",
   "pygments_lexer": "ipython3",
   "version": "3.11.5"
  }
 },
 "nbformat": 4,
 "nbformat_minor": 2
}
