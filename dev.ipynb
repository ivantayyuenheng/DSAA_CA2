{
 "cells": [
  {
   "cell_type": "code",
   "execution_count": 65,
   "metadata": {},
   "outputs": [],
   "source": [
    "#valid test cases\n",
    "Vexps= [\n",
    "    '(4**5)',\n",
    "    '(4-+5)',\n",
    "    '(5+-1)',\n",
    "    '(3/1.5)',\n",
    "    '(4/-1)',\n",
    "    '(4*-2)',\n",
    "    '((4+(5-4))*2)',\n",
    "    '(3.14**2)'\n",
    "]\n",
    "#invalid test cases\n",
    "IVexps= [\n",
    "    '((4+5))',\n",
    "    '(4+*5)',\n",
    "    '(4/(1-1))',\n",
    "    '(4/*5)',\n",
    "    '(4***5)'\n",
    "\n",
    "]"
   ]
  },
  {
   "cell_type": "markdown",
   "metadata": {},
   "source": [
    "<h1>Tokenisation</h1>"
   ]
  },
  {
   "cell_type": "code",
   "execution_count": 66,
   "metadata": {},
   "outputs": [],
   "source": [
    "def tokenize_equation(equation):\n",
    "    tokens = []\n",
    "    number = \"\"\n",
    "    i = 0  # Position index\n",
    "\n",
    "    while i < len(equation):\n",
    "        char = equation[i]\n",
    "\n",
    "        if char.isdigit() or char == '.':  # Build multi-digit numbers & decimals\n",
    "            number += char\n",
    "\n",
    "        else:\n",
    "            if number:  # Store the completed number\n",
    "                tokens.append(number)\n",
    "                number = \"\"\n",
    "\n",
    "            # Check for '**' operator\n",
    "            if char == '*' and i + 1 < len(equation) and equation[i + 1] == '*':\n",
    "                tokens.append('**')\n",
    "                i += 1  # Skip the next '*'\n",
    "\n",
    "            elif char in \"+-*/^()\":  # Other operators and parentheses\n",
    "                tokens.append(char)\n",
    "\n",
    "        i += 1  # Move to next character\n",
    "        \n",
    "    output = []\n",
    "\n",
    "    i = 0\n",
    "    while i < len(tokens):\n",
    "        # Check if the current element is a negative sign and the previous one is an operator\n",
    "        if tokens[i] == '-' and i - 1 >= 0 and tokens[i - 1] in ['+', '-']:\n",
    "            output.append(tokens[i] + tokens[i + 1])  # Merge '-' and the next number\n",
    "            i += 2  # Skip the next element, since it's already merged\n",
    "        else:\n",
    "            output.append(tokens[i])\n",
    "            i += 1\n",
    "\n",
    "    return output"
   ]
  },
  {
   "cell_type": "code",
   "execution_count": 67,
   "metadata": {},
   "outputs": [
    {
     "name": "stdout",
     "output_type": "stream",
     "text": [
      "['(', '4', '/', '(', '1', '-', '1', ')', ')']\n"
     ]
    }
   ],
   "source": [
    "# Example usage\n",
    "tokens = tokenize_equation(IVexps[-3])\n",
    "print(tokens)"
   ]
  },
  {
   "cell_type": "markdown",
   "metadata": {},
   "source": [
    "<h1>Validation for brackets</h1>"
   ]
  },
  {
   "cell_type": "markdown",
   "metadata": {},
   "source": [
    "<h1>Validation for invalid double operators</h1>"
   ]
  },
  {
   "cell_type": "markdown",
   "metadata": {},
   "source": [
    "<h1>Validation for zero division (Done in evaluation)</h1>"
   ]
  }
 ],
 "metadata": {
  "kernelspec": {
   "display_name": "Python 3",
   "language": "python",
   "name": "python3"
  },
  "language_info": {
   "codemirror_mode": {
    "name": "ipython",
    "version": 3
   },
   "file_extension": ".py",
   "mimetype": "text/x-python",
   "name": "python",
   "nbconvert_exporter": "python",
   "pygments_lexer": "ipython3",
   "version": "3.11.5"
  }
 },
 "nbformat": 4,
 "nbformat_minor": 2
}
