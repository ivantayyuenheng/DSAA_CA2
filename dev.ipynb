{
 "cells": [
  {
   "cell_type": "code",
   "execution_count": 2,
   "metadata": {},
   "outputs": [],
   "source": [
    "#valid test cases\n",
    "Vexps= [\n",
    "    '(4**5)',\n",
    "    '(4-+5)',\n",
    "    '(5+-1)',\n",
    "    '(3/1.5)',\n",
    "    '(4/-1)',\n",
    "    '(4*-2)',\n",
    "    '((4+(5-4))*2)',\n",
    "]\n",
    "#invalid test cases\n",
    "IVexps= [\n",
    "    '((4+5))',\n",
    "    '(4+*5)',\n",
    "    '(4/(1-1))',\n",
    "    '(4/*5)',\n",
    "    '(4***5)'\n",
    "\n",
    "]"
   ]
  },
  {
   "cell_type": "code",
   "execution_count": 18,
   "metadata": {},
   "outputs": [],
   "source": [
    "def tokenise(exp):\n",
    "    #separate the operators and brackets\n",
    "    replace = ['+', '-', '/', '(', ')', '**']\n",
    "    for i in replace:\n",
    "        exp = exp.replace(i, f' {i} ')\n",
    "    #if index string start with operator and end with number and vice versa, split index string\n",
    "\n",
    "    return exp.split()"
   ]
  },
  {
   "cell_type": "code",
   "execution_count": 16,
   "metadata": {},
   "outputs": [
    {
     "ename": "NameError",
     "evalue": "name 'tokenise' is not defined",
     "output_type": "error",
     "traceback": [
      "\u001b[1;31m---------------------------------------------------------------------------\u001b[0m",
      "\u001b[1;31mNameError\u001b[0m                                 Traceback (most recent call last)",
      "Cell \u001b[1;32mIn[16], line 1\u001b[0m\n\u001b[1;32m----> 1\u001b[0m tokenise(IVexps[\u001b[38;5;241m-\u001b[39m\u001b[38;5;241m1\u001b[39m])\n",
      "\u001b[1;31mNameError\u001b[0m: name 'tokenise' is not defined"
     ]
    }
   ],
   "source": [
    "tokenise(IVexps[-1])"
   ]
  },
  {
   "cell_type": "code",
   "execution_count": 14,
   "metadata": {},
   "outputs": [],
   "source": [
    "def tokenize_equation(equation):\n",
    "    tokens = []\n",
    "    number = \"\"\n",
    "    i = 0  # Position index\n",
    "\n",
    "    while i < len(equation):\n",
    "        char = equation[i]\n",
    "\n",
    "        if char.isdigit() or char == '.':  # Build multi-digit numbers & decimals\n",
    "            number += char\n",
    "\n",
    "        else:\n",
    "            if number:  # Store the completed number\n",
    "                tokens.append(number)\n",
    "                number = \"\"\n",
    "\n",
    "            # Check for '**' operator\n",
    "            if char == '*' and i + 1 < len(equation) and equation[i + 1] == '*':\n",
    "                tokens.append('**')\n",
    "                i += 1  # Skip the next '*'\n",
    "\n",
    "            # Handle double operators\n",
    "            elif char in \"+-\" and i + 1 < len(equation) and equation[i + 1] in \"+-\":\n",
    "                first_op = char\n",
    "                second_op = equation[i + 1]\n",
    "                i += 1  # Skip the second operator\n",
    "                \n",
    "                # If next character is a digit, attach the second operator to it\n",
    "                if i + 1 < len(equation) and equation[i + 1].isdigit():\n",
    "                    tokens.append(first_op)  # Keep the first operator\n",
    "                    number += second_op  # Attach the second operator to the number\n",
    "                else:\n",
    "                    tokens.append(first_op + second_op)  # Store both as a token if not followed by a number\n",
    "\n",
    "            elif char in \"+-*/^()\":  # Other operators and parentheses\n",
    "                tokens.append(char)\n",
    "\n",
    "        i += 1  # Move to next character\n",
    "\n",
    "    if number:  # Append last number if exists\n",
    "        tokens.append(number)\n",
    "\n",
    "    return tokens\n"
   ]
  },
  {
   "cell_type": "code",
   "execution_count": 15,
   "metadata": {},
   "outputs": [
    {
     "name": "stdout",
     "output_type": "stream",
     "text": [
      "['(', '4', '/', '-', '1', ')']\n"
     ]
    }
   ],
   "source": [
    "# Example usage\n",
    "tokens = tokenize_equation(Vexps[4])\n",
    "print(tokens)\n"
   ]
  }
 ],
 "metadata": {
  "kernelspec": {
   "display_name": "Python 3",
   "language": "python",
   "name": "python3"
  },
  "language_info": {
   "codemirror_mode": {
    "name": "ipython",
    "version": 3
   },
   "file_extension": ".py",
   "mimetype": "text/x-python",
   "name": "python",
   "nbconvert_exporter": "python",
   "pygments_lexer": "ipython3",
   "version": "3.11.5"
  }
 },
 "nbformat": 4,
 "nbformat_minor": 2
}
