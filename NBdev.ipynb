{
 "cells": [
  {
   "cell_type": "code",
   "execution_count": 85,
   "metadata": {},
   "outputs": [
    {
     "name": "stdout",
     "output_type": "stream",
     "text": [
      "((1-2)-(1-2))\n",
      "['((1-2)-', '1-2))']\n"
     ]
    }
   ],
   "source": [
    "tokens = ['(', '(', '1', '-', '2', ')', '-', '(', '1', '-', '2', ')', ')']\n",
    "exp = ''.join(tokens)\n",
    "\n",
    "print(exp)\n",
    "\n",
    "parts = exp.rsplit(\"(\", 1)\n",
    "for part in parts:\n",
    "    part = part.rsplit(\")\", 1)\n",
    "print(parts)"
   ]
  },
  {
   "cell_type": "code",
   "execution_count": 86,
   "metadata": {},
   "outputs": [],
   "source": [
    "def edit_tokens(tokens):\n",
    "    output = [' ']\n",
    "    for token in tokens:\n",
    "        #is bracket and previous token is bracket\n",
    "        if token in ['(', ')'] and output[-1][-1] in ['(', ')'] or  output[-1] == '':\n",
    "            output[-1] = output[-1] + token\n",
    "        #is bracket and previous token is number or operator\n",
    "        elif token in ['(', ')']:\n",
    "            output.append(token)\n",
    "        #is number and previous token is bracket\n",
    "        elif token.isdigit() and output[-1][-1] in ['(', ')']:\n",
    "            output.append(token)\n",
    "        #is number and previous token is operator\n",
    "        elif token.isdigit():\n",
    "            output[-1] = output[-1] + token\n",
    "        #is operator and previous token is number\n",
    "        elif output[-1][-1].isdigit():\n",
    "            output[-1] = output[-1] + token\n",
    "        #is operator and previous token is bracket\n",
    "        else:\n",
    "            output.append(token)\n",
    "    #drop first space\n",
    "    output = output[1:]\n",
    "    return output\n"
   ]
  },
  {
   "cell_type": "code",
   "execution_count": 87,
   "metadata": {},
   "outputs": [
    {
     "name": "stdout",
     "output_type": "stream",
     "text": [
      "['(', '1', '+', '(', '(', '1', '-', '2', ')', '-', '(', '(', '(', '3', '+', '4', ')', '/', '(', '5', '*', '6', ')', ')', '**', '2', ')', ')', ')']\n",
      "['(', '1+', '((', '1-2', ')', '-', '(((', '3+4', ')', '/', '(', '5*6', '))', '**2', ')))']\n"
     ]
    }
   ],
   "source": [
    "from tokeniser import Tokeniser\n",
    "expr = \"(1+((1-2)-(((3+4)/(5*6))**2)))\"\n",
    "tokens = Tokeniser(expr).tokenise()\n",
    "print(tokens)\n",
    "edit_tokens = edit_tokens(tokens)\n",
    "print(edit_tokens)"
   ]
  },
  {
   "cell_type": "code",
   "execution_count": 88,
   "metadata": {},
   "outputs": [
    {
     "name": "stdout",
     "output_type": "stream",
     "text": [
      "(__((1-2)-(((3+4)/(5*6))**2)))\n",
      "(1+((___)-(((3+4)/(5*6))**2)))\n",
      "(1+((1-2)_(((3+4)/(5*6))**2)))\n",
      "(1+((1-2)-(((___)/(5*6))**2)))\n",
      "(1+((1-2)-(((3+4)_(5*6))**2)))\n",
      "(1+((1-2)-(((3+4)/(___))**2)))\n",
      "(1+((1-2)-(((3+4)/(5*6))___)))\n"
     ]
    }
   ],
   "source": [
    "for i in range(1, len(edit_tokens), 2):\n",
    "    display = edit_tokens.copy()\n",
    "    editting = \"_\" * len(edit_tokens[i])\n",
    "    display[i] = editting\n",
    "    print(\"\".join(display))"
   ]
  },
  {
   "cell_type": "code",
   "execution_count": null,
   "metadata": {},
   "outputs": [
    {
     "name": "stdout",
     "output_type": "stream",
     "text": [
      "['1.3', '*', '*']\n",
      "[None, None, None]\n"
     ]
    }
   ],
   "source": [
    "def edit_format(exp):\n",
    "    output = []\n",
    "    tokens = []\n",
    "    #tokenise by operator\n",
    "    for i in range(len(exp)):\n",
    "        #if operator\n",
    "        if exp[i] in ['+', '-', '*', '/', '**']:\n",
    "            tokens.append(exp[i])\n",
    "        #if first chcaracter\n",
    "        elif i == 0:\n",
    "            tokens.append(exp[i])\n",
    "        #if prev is operator\n",
    "        elif exp[-1] in ['+', '-', '/']:\n",
    "            tokens.append(exp[i])\n",
    "        else:\n",
    "            tokens[-1] = tokens[-1] + exp[i]\n",
    "            \n",
    "    print(tokens)\n",
    "\n",
    "    for token in tokens:\n",
    "        try:\n",
    "            output.append(int(token)-int(token))\n",
    "        except ValueError:\n",
    "            output.append(None)\n",
    "\n",
    "    print(output)\n",
    "\n",
    "\n",
    "edit_format('1.3**')"
   ]
  }
 ],
 "metadata": {
  "kernelspec": {
   "display_name": "Python 3",
   "language": "python",
   "name": "python3"
  },
  "language_info": {
   "codemirror_mode": {
    "name": "ipython",
    "version": 3
   },
   "file_extension": ".py",
   "mimetype": "text/x-python",
   "name": "python",
   "nbconvert_exporter": "python",
   "pygments_lexer": "ipython3",
   "version": "3.11.5"
  }
 },
 "nbformat": 4,
 "nbformat_minor": 2
}
